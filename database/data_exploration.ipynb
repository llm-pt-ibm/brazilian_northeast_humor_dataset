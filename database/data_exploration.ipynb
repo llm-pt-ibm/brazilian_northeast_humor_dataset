{
 "cells": [
  {
   "cell_type": "code",
   "execution_count": 27,
   "id": "1495be91",
   "metadata": {},
   "outputs": [],
   "source": [
    "import altair as alt\n",
    "import pandas as pd\n",
    "import os"
   ]
  },
  {
   "cell_type": "markdown",
   "id": "ac6fcb67",
   "metadata": {},
   "source": [
    "## 1. Creating the final dataset with merged metadata"
   ]
  },
  {
   "cell_type": "code",
   "execution_count": 21,
   "id": "71a27336",
   "metadata": {},
   "outputs": [],
   "source": [
    "annotated_df = pd.read_csv('data/annotated/annotated_dataset.csv')\n",
    "videos_df = pd.read_csv('data/transcriptions/youtube_videos_transcribed.csv')\n",
    "videos_df = videos_df[['video_url', 'video_title', 'publish_date']]\n",
    "final_df = df_merge = pd.merge(annotated_df, videos_df, on='video_url', how='left')"
   ]
  },
  {
   "cell_type": "code",
   "execution_count": 22,
   "id": "49632494",
   "metadata": {},
   "outputs": [
    {
     "data": {
      "text/plain": [
       "Index(['video_url', 'brazilian_state', 'corrected_transcription',\n",
       "       'text_origin', 'specific_contexts', 'punchlines', 'joke_explanation',\n",
       "       'fun', 'humor', 'nonsense', 'wit', 'irony', 'satire', 'sarcasm',\n",
       "       'cynicism', 'video_title', 'publish_date'],\n",
       "      dtype='object')"
      ]
     },
     "execution_count": 22,
     "metadata": {},
     "output_type": "execute_result"
    }
   ],
   "source": [
    "final_df.columns"
   ]
  },
  {
   "cell_type": "code",
   "execution_count": 23,
   "id": "108863ef",
   "metadata": {},
   "outputs": [],
   "source": [
    "new_columns_order = ['video_url', 'video_title', 'publish_date', 'brazilian_state', 'text_origin',\n",
    "        'corrected_transcription', 'specific_contexts', 'punchlines',\n",
    "       'fun', 'humor', 'nonsense', 'wit', 'irony', 'satire', 'sarcasm',\n",
    "       'cynicism', 'joke_explanation']\n",
    "final_df = final_df[new_columns_order]"
   ]
  },
  {
   "cell_type": "code",
   "execution_count": 24,
   "id": "21d373ea",
   "metadata": {},
   "outputs": [],
   "source": [
    "os.makedirs('data/completed', exist_ok=True)\n",
    "final_df.to_csv('data/completed/brazilian_ne_humorous_texts.csv', index=False)"
   ]
  },
  {
   "cell_type": "markdown",
   "id": "0a509cbb",
   "metadata": {},
   "source": [
    "## 2. Exploring data per state"
   ]
  },
  {
   "cell_type": "code",
   "execution_count": 30,
   "id": "2f22a32d",
   "metadata": {},
   "outputs": [
    {
     "data": {
      "text/html": [
       "\n",
       "<style>\n",
       "  #altair-viz-1d34ac75c501437ea34f337fb015c33d.vega-embed {\n",
       "    width: 100%;\n",
       "    display: flex;\n",
       "  }\n",
       "\n",
       "  #altair-viz-1d34ac75c501437ea34f337fb015c33d.vega-embed details,\n",
       "  #altair-viz-1d34ac75c501437ea34f337fb015c33d.vega-embed details summary {\n",
       "    position: relative;\n",
       "  }\n",
       "</style>\n",
       "<div id=\"altair-viz-1d34ac75c501437ea34f337fb015c33d\"></div>\n",
       "<script type=\"text/javascript\">\n",
       "  var VEGA_DEBUG = (typeof VEGA_DEBUG == \"undefined\") ? {} : VEGA_DEBUG;\n",
       "  (function(spec, embedOpt){\n",
       "    let outputDiv = document.currentScript.previousElementSibling;\n",
       "    if (outputDiv.id !== \"altair-viz-1d34ac75c501437ea34f337fb015c33d\") {\n",
       "      outputDiv = document.getElementById(\"altair-viz-1d34ac75c501437ea34f337fb015c33d\");\n",
       "    }\n",
       "\n",
       "    const paths = {\n",
       "      \"vega\": \"https://cdn.jsdelivr.net/npm/vega@5?noext\",\n",
       "      \"vega-lib\": \"https://cdn.jsdelivr.net/npm/vega-lib?noext\",\n",
       "      \"vega-lite\": \"https://cdn.jsdelivr.net/npm/vega-lite@5.20.1?noext\",\n",
       "      \"vega-embed\": \"https://cdn.jsdelivr.net/npm/vega-embed@6?noext\",\n",
       "    };\n",
       "\n",
       "    function maybeLoadScript(lib, version) {\n",
       "      var key = `${lib.replace(\"-\", \"\")}_version`;\n",
       "      return (VEGA_DEBUG[key] == version) ?\n",
       "        Promise.resolve(paths[lib]) :\n",
       "        new Promise(function(resolve, reject) {\n",
       "          var s = document.createElement('script');\n",
       "          document.getElementsByTagName(\"head\")[0].appendChild(s);\n",
       "          s.async = true;\n",
       "          s.onload = () => {\n",
       "            VEGA_DEBUG[key] = version;\n",
       "            return resolve(paths[lib]);\n",
       "          };\n",
       "          s.onerror = () => reject(`Error loading script: ${paths[lib]}`);\n",
       "          s.src = paths[lib];\n",
       "        });\n",
       "    }\n",
       "\n",
       "    function showError(err) {\n",
       "      outputDiv.innerHTML = `<div class=\"error\" style=\"color:red;\">${err}</div>`;\n",
       "      throw err;\n",
       "    }\n",
       "\n",
       "    function displayChart(vegaEmbed) {\n",
       "      vegaEmbed(outputDiv, spec, embedOpt)\n",
       "        .catch(err => showError(`Javascript Error: ${err.message}<br>This usually means there's a typo in your chart specification. See the javascript console for the full traceback.`));\n",
       "    }\n",
       "\n",
       "    if(typeof define === \"function\" && define.amd) {\n",
       "      requirejs.config({paths});\n",
       "      let deps = [\"vega-embed\"];\n",
       "      require(deps, displayChart, err => showError(`Error loading script: ${err.message}`));\n",
       "    } else {\n",
       "      maybeLoadScript(\"vega\", \"5\")\n",
       "        .then(() => maybeLoadScript(\"vega-lite\", \"5.20.1\"))\n",
       "        .then(() => maybeLoadScript(\"vega-embed\", \"6\"))\n",
       "        .catch(showError)\n",
       "        .then(() => displayChart(vegaEmbed));\n",
       "    }\n",
       "  })({\"config\": {\"view\": {\"continuousWidth\": 300, \"continuousHeight\": 300}}, \"data\": {\"name\": \"data-fdba61a4789641e43a3c519aacf564dd\"}, \"mark\": {\"type\": \"bar\"}, \"encoding\": {\"tooltip\": [{\"field\": \"Brazilian State\", \"type\": \"nominal\"}, {\"field\": \"Count\", \"type\": \"quantitative\"}], \"x\": {\"field\": \"Count\", \"title\": \"Number of Texts\", \"type\": \"quantitative\"}, \"y\": {\"field\": \"Brazilian State\", \"sort\": \"-x\", \"title\": \"Brazilian State\", \"type\": \"nominal\"}}, \"height\": 400, \"title\": \"Number of Texts per Brazilian State\", \"width\": 600, \"$schema\": \"https://vega.github.io/schema/vega-lite/v5.20.1.json\", \"datasets\": {\"data-fdba61a4789641e43a3c519aacf564dd\": [{\"Brazilian State\": \"Pernambuco\", \"Count\": 157}, {\"Brazilian State\": \"Piau\\u00ed\", \"Count\": 73}, {\"Brazilian State\": \"Cear\\u00e1\", \"Count\": 68}, {\"Brazilian State\": \"Bahia\", \"Count\": 63}, {\"Brazilian State\": \"Para\\u00edba\", \"Count\": 37}, {\"Brazilian State\": \"Maranh\\u00e3o\", \"Count\": 31}, {\"Brazilian State\": \"Sergipe\", \"Count\": 18}, {\"Brazilian State\": \"Alagoas\", \"Count\": 18}, {\"Brazilian State\": \"Rio Grande do Norte\", \"Count\": 11}]}}, {\"mode\": \"vega-lite\"});\n",
       "</script>"
      ],
      "text/plain": [
       "alt.Chart(...)"
      ]
     },
     "metadata": {},
     "output_type": "display_data"
    }
   ],
   "source": [
    "state_counts = final_df['brazilian_state'].value_counts().reset_index()\n",
    "state_counts.columns = ['Brazilian State', 'Count']\n",
    "\n",
    "chart = alt.Chart(state_counts).mark_bar().encode(\n",
    "    y=alt.Y('Brazilian State:N', sort='-x', title='Brazilian State'),\n",
    "    x=alt.X('Count:Q', title='Number of Texts'),\n",
    "    tooltip=['Brazilian State:N', 'Count:Q']\n",
    ").properties(\n",
    "    title='Number of Texts per Brazilian State',\n",
    "    width=600,\n",
    "    height=400\n",
    ")\n",
    "\n",
    "chart.show()"
   ]
  },
  {
   "cell_type": "markdown",
   "id": "30608359",
   "metadata": {},
   "source": [
    "### 3. Exploring publish dates"
   ]
  },
  {
   "cell_type": "code",
   "execution_count": null,
   "id": "1f4a4ade",
   "metadata": {},
   "outputs": [],
   "source": []
  }
 ],
 "metadata": {
  "kernelspec": {
   "display_name": "llm_eval_local",
   "language": "python",
   "name": "python3"
  },
  "language_info": {
   "codemirror_mode": {
    "name": "ipython",
    "version": 3
   },
   "file_extension": ".py",
   "mimetype": "text/x-python",
   "name": "python",
   "nbconvert_exporter": "python",
   "pygments_lexer": "ipython3",
   "version": "3.12.3"
  }
 },
 "nbformat": 4,
 "nbformat_minor": 5
}
